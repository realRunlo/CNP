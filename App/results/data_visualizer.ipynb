{
 "cells": [
  {
   "cell_type": "code",
   "execution_count": 4,
   "metadata": {},
   "outputs": [],
   "source": [
    "# Required libraries\n",
    "import seaborn as sea\n",
    "import scipy.stats as stats\n",
    "import matplotlib.pyplot as plt\n",
    "import pandas as pd\n",
    "\n",
    "df = pd.read_csv('measurements.csv', encoding=\"utf-8\", skipinitialspace=True)"
   ]
  },
  {
   "cell_type": "code",
   "execution_count": 5,
   "metadata": {},
   "outputs": [
    {
     "name": "stdout",
     "output_type": "stream",
     "text": [
      "<class 'pandas.core.frame.DataFrame'>\n",
      "Index: 1 entries, europe-west1-b to europe-west1-b\n",
      "Data columns (total 14 columns):\n",
      " #   Column                             Non-Null Count  Dtype  \n",
      "---  ------                             --------------  -----  \n",
      " 0   Zone                               1 non-null      object \n",
      " 1   Month                              1 non-null      int64  \n",
      " 2   Day                                1 non-null      int64  \n",
      " 3   Hour                               1 non-null      int64  \n",
      " 4   Minute                             1 non-null      object \n",
      " 5   Bandwidth                          1 non-null      float64\n",
      " 6   Jitter (To Server)                 1 non-null      float64\n",
      " 7   Jitter (From Server)               1 non-null      float64\n",
      " 8   Packet Loss (To Server)            1 non-null      float64\n",
      " 9   Packet Loss (From Server)          1 non-null      int64  \n",
      " 10  Bit Rate (With UDP - To Server)    1 non-null      float64\n",
      " 11  Bit Rate (With UDP - From Server)  1 non-null      float64\n",
      " 12  Bit Rate (With TCP - To Server)    1 non-null      float64\n",
      " 13  Bit Rate (With TCP - From Server)  1 non-null      float64\n",
      "dtypes: float64(8), int64(4), object(2)\n",
      "memory usage: 120.0+ bytes\n"
     ]
    }
   ],
   "source": [
    "#Details about dataset\n",
    "df.info()"
   ]
  }
 ],
 "metadata": {
  "kernelspec": {
   "display_name": "Python 3",
   "language": "python",
   "name": "python3"
  },
  "language_info": {
   "codemirror_mode": {
    "name": "ipython",
    "version": 3
   },
   "file_extension": ".py",
   "mimetype": "text/x-python",
   "name": "python",
   "nbconvert_exporter": "python",
   "pygments_lexer": "ipython3",
   "version": "3.10.6"
  },
  "orig_nbformat": 4
 },
 "nbformat": 4,
 "nbformat_minor": 2
}
