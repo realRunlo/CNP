{
 "cells": [
  {
   "cell_type": "code",
   "execution_count": 1,
   "metadata": {},
   "outputs": [],
   "source": [
    "# Required libraries\n",
    "import seaborn as sea\n",
    "import scipy.stats as stats\n",
    "import matplotlib.pyplot as plt\n",
    "import pandas as pd\n",
    "\n",
    "df = pd.read_csv('measurements.csv', encoding=\"utf-8\", skipinitialspace=True)"
   ]
  },
  {
   "cell_type": "code",
   "execution_count": null,
   "metadata": {},
   "outputs": [],
   "source": [
    "#TODO: Fazer o parse do mes, dia, hora, segundo e dia da semana"
   ]
  },
  {
   "cell_type": "code",
   "execution_count": 2,
   "metadata": {},
   "outputs": [
    {
     "name": "stdout",
     "output_type": "stream",
     "text": [
      "<class 'pandas.core.frame.DataFrame'>\n",
      "RangeIndex: 1 entries, 0 to 0\n",
      "Data columns (total 11 columns):\n",
      " #   Column                        Non-Null Count  Dtype  \n",
      "---  ------                        --------------  -----  \n",
      " 0   Zone                          1 non-null      object \n",
      " 1   Datetime                      1 non-null      object \n",
      " 2   Bandwidth                     1 non-null      float64\n",
      " 3   Upload Jitter                 1 non-null      float64\n",
      " 4   Download Jitter               1 non-null      float64\n",
      " 5   Upload Packet Loss            1 non-null      float64\n",
      " 6   Download Packet Loss          1 non-null      int64  \n",
      " 7   Upload Bit Rate (With UDP)    1 non-null      float64\n",
      " 8   Download Bit Rate (With UDP)  1 non-null      float64\n",
      " 9   Upload Bit Rate (With TCP)    1 non-null      float64\n",
      " 10  Download Bit Rate (With TCP)  1 non-null      float64\n",
      "dtypes: float64(8), int64(1), object(2)\n",
      "memory usage: 216.0+ bytes\n"
     ]
    }
   ],
   "source": [
    "#Details about dataset\n",
    "df.info()"
   ]
  }
 ],
 "metadata": {
  "kernelspec": {
   "display_name": "Python 3",
   "language": "python",
   "name": "python3"
  },
  "language_info": {
   "codemirror_mode": {
    "name": "ipython",
    "version": 3
   },
   "file_extension": ".py",
   "mimetype": "text/x-python",
   "name": "python",
   "nbconvert_exporter": "python",
   "pygments_lexer": "ipython3",
   "version": "3.10.6"
  },
  "orig_nbformat": 4
 },
 "nbformat": 4,
 "nbformat_minor": 2
}
