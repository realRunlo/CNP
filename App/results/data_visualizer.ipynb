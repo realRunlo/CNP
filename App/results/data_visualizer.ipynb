{
 "cells": [
  {
   "attachments": {},
   "cell_type": "markdown",
   "metadata": {},
   "source": [
    "### TODO:\n",
    "* [Talvez não seja preciso, mas logo se verá] Fazer nominal value discretization às features \"Zone\", \"Week Day\" e \"Month\""
   ]
  },
  {
   "cell_type": "code",
   "execution_count": 1,
   "metadata": {},
   "outputs": [
    {
     "data": {
      "text/html": [
       "<div>\n",
       "<style scoped>\n",
       "    .dataframe tbody tr th:only-of-type {\n",
       "        vertical-align: middle;\n",
       "    }\n",
       "\n",
       "    .dataframe tbody tr th {\n",
       "        vertical-align: top;\n",
       "    }\n",
       "\n",
       "    .dataframe thead th {\n",
       "        text-align: right;\n",
       "    }\n",
       "</style>\n",
       "<table border=\"1\" class=\"dataframe\">\n",
       "  <thead>\n",
       "    <tr style=\"text-align: right;\">\n",
       "      <th></th>\n",
       "      <th>Zone</th>\n",
       "      <th>Datetime</th>\n",
       "      <th>Bandwidth</th>\n",
       "      <th>Upload Jitter</th>\n",
       "      <th>Download Jitter</th>\n",
       "      <th>Upload Packet Loss</th>\n",
       "      <th>Download Packet Loss</th>\n",
       "      <th>Upload Bit Rate (With UDP)</th>\n",
       "      <th>Download Bit Rate (With UDP)</th>\n",
       "      <th>Max Bit Rate (With UDP)</th>\n",
       "      <th>Upload Bit Rate (With TCP)</th>\n",
       "      <th>Download Bit Rate (With TCP)</th>\n",
       "      <th>Max Bit Rate (With TCP)</th>\n",
       "    </tr>\n",
       "  </thead>\n",
       "  <tbody>\n",
       "    <tr>\n",
       "      <th>0</th>\n",
       "      <td>europe-west1-b</td>\n",
       "      <td>Friday 14 April 13:39</td>\n",
       "      <td>87.4</td>\n",
       "      <td>0.763</td>\n",
       "      <td>0.0</td>\n",
       "      <td>0.32</td>\n",
       "      <td>0</td>\n",
       "      <td>1.04</td>\n",
       "      <td>1.05</td>\n",
       "      <td>DEFAULT VALUE</td>\n",
       "      <td>63.5</td>\n",
       "      <td>62.9</td>\n",
       "      <td>DEFAULT VALUE</td>\n",
       "    </tr>\n",
       "  </tbody>\n",
       "</table>\n",
       "</div>"
      ],
      "text/plain": [
       "             Zone               Datetime  Bandwidth  Upload Jitter  \\\n",
       "0  europe-west1-b  Friday 14 April 13:39       87.4          0.763   \n",
       "\n",
       "   Download Jitter  Upload Packet Loss  Download Packet Loss  \\\n",
       "0              0.0                0.32                     0   \n",
       "\n",
       "   Upload Bit Rate (With UDP)  Download Bit Rate (With UDP)  \\\n",
       "0                        1.04                          1.05   \n",
       "\n",
       "  Max Bit Rate (With UDP)  Upload Bit Rate (With TCP)  \\\n",
       "0           DEFAULT VALUE                        63.5   \n",
       "\n",
       "   Download Bit Rate (With TCP) Max Bit Rate (With TCP)  \n",
       "0                          62.9           DEFAULT VALUE  "
      ]
     },
     "execution_count": 1,
     "metadata": {},
     "output_type": "execute_result"
    }
   ],
   "source": [
    "# Required libraries\n",
    "import seaborn as sea\n",
    "import scipy.stats as stats\n",
    "import matplotlib.pyplot as plt\n",
    "import pandas as pd\n",
    "import re\n",
    "\n",
    "df = pd.read_csv('measurements.csv', encoding=\"utf-8\", skipinitialspace=True)\n",
    "df\n"
   ]
  },
  {
   "cell_type": "code",
   "execution_count": 2,
   "metadata": {},
   "outputs": [],
   "source": [
    "def parse_datetime(df):\n",
    "    date_time_parts = df['Datetime'].str.split(' ')\n",
    "    df['Week day'] = date_time_parts.str[0]\n",
    "    df['Day'] = date_time_parts.str[1]\n",
    "    df['Month'] = date_time_parts.str[2]\n",
    "    time_parts = date_time_parts.str[3].str.split(':')\n",
    "    df['Hour'] = time_parts.str[0]\n",
    "    df['Minute'] = time_parts.str[1]\n",
    "\n",
    "    df['Day'] = df['Day'].astype(str).astype(int)\n",
    "    df['Hour'] = df['Hour'].astype(str).astype(int)\n",
    "    df['Minute'] = df['Minute'].astype(str).astype(int)\n",
    "\n",
    "\n",
    "parse_datetime(df)\n",
    "df = df.drop(\"Datetime\", axis=1)"
   ]
  },
  {
   "cell_type": "code",
   "execution_count": 3,
   "metadata": {},
   "outputs": [
    {
     "name": "stdout",
     "output_type": "stream",
     "text": [
      "<class 'pandas.core.frame.DataFrame'>\n",
      "RangeIndex: 1 entries, 0 to 0\n",
      "Data columns (total 17 columns):\n",
      " #   Column                        Non-Null Count  Dtype  \n",
      "---  ------                        --------------  -----  \n",
      " 0   Zone                          1 non-null      object \n",
      " 1   Bandwidth                     1 non-null      float64\n",
      " 2   Upload Jitter                 1 non-null      float64\n",
      " 3   Download Jitter               1 non-null      float64\n",
      " 4   Upload Packet Loss            1 non-null      float64\n",
      " 5   Download Packet Loss          1 non-null      int64  \n",
      " 6   Upload Bit Rate (With UDP)    1 non-null      float64\n",
      " 7   Download Bit Rate (With UDP)  1 non-null      float64\n",
      " 8   Max Bit Rate (With UDP)       1 non-null      object \n",
      " 9   Upload Bit Rate (With TCP)    1 non-null      float64\n",
      " 10  Download Bit Rate (With TCP)  1 non-null      float64\n",
      " 11  Max Bit Rate (With TCP)       1 non-null      object \n",
      " 12  Week day                      1 non-null      object \n",
      " 13  Day                           1 non-null      int64  \n",
      " 14  Month                         1 non-null      object \n",
      " 15  Hour                          1 non-null      int64  \n",
      " 16  Minute                        1 non-null      int64  \n",
      "dtypes: float64(8), int64(4), object(5)\n",
      "memory usage: 264.0+ bytes\n"
     ]
    }
   ],
   "source": [
    "# Details about dataset\n",
    "df.info()"
   ]
  },
  {
   "cell_type": "code",
   "execution_count": 4,
   "metadata": {},
   "outputs": [
    {
     "data": {
      "text/html": [
       "<div>\n",
       "<style scoped>\n",
       "    .dataframe tbody tr th:only-of-type {\n",
       "        vertical-align: middle;\n",
       "    }\n",
       "\n",
       "    .dataframe tbody tr th {\n",
       "        vertical-align: top;\n",
       "    }\n",
       "\n",
       "    .dataframe thead th {\n",
       "        text-align: right;\n",
       "    }\n",
       "</style>\n",
       "<table border=\"1\" class=\"dataframe\">\n",
       "  <thead>\n",
       "    <tr style=\"text-align: right;\">\n",
       "      <th></th>\n",
       "      <th>Zone</th>\n",
       "      <th>Bandwidth</th>\n",
       "      <th>Upload Jitter</th>\n",
       "      <th>Download Jitter</th>\n",
       "      <th>Upload Packet Loss</th>\n",
       "      <th>Download Packet Loss</th>\n",
       "      <th>Upload Bit Rate (With UDP)</th>\n",
       "      <th>Download Bit Rate (With UDP)</th>\n",
       "      <th>Max Bit Rate (With UDP)</th>\n",
       "      <th>Upload Bit Rate (With TCP)</th>\n",
       "      <th>Download Bit Rate (With TCP)</th>\n",
       "      <th>Max Bit Rate (With TCP)</th>\n",
       "      <th>Week day</th>\n",
       "      <th>Day</th>\n",
       "      <th>Month</th>\n",
       "      <th>Hour</th>\n",
       "      <th>Minute</th>\n",
       "    </tr>\n",
       "  </thead>\n",
       "  <tbody>\n",
       "    <tr>\n",
       "      <th>0</th>\n",
       "      <td>europe-west1-b</td>\n",
       "      <td>87.4</td>\n",
       "      <td>0.763</td>\n",
       "      <td>0.0</td>\n",
       "      <td>0.32</td>\n",
       "      <td>0</td>\n",
       "      <td>1.04</td>\n",
       "      <td>1.05</td>\n",
       "      <td>DEFAULT VALUE</td>\n",
       "      <td>63.5</td>\n",
       "      <td>62.9</td>\n",
       "      <td>DEFAULT VALUE</td>\n",
       "      <td>Friday</td>\n",
       "      <td>14</td>\n",
       "      <td>April</td>\n",
       "      <td>13</td>\n",
       "      <td>39</td>\n",
       "    </tr>\n",
       "  </tbody>\n",
       "</table>\n",
       "</div>"
      ],
      "text/plain": [
       "             Zone  Bandwidth  Upload Jitter  Download Jitter  \\\n",
       "0  europe-west1-b       87.4          0.763              0.0   \n",
       "\n",
       "   Upload Packet Loss  Download Packet Loss  Upload Bit Rate (With UDP)  \\\n",
       "0                0.32                     0                        1.04   \n",
       "\n",
       "   Download Bit Rate (With UDP) Max Bit Rate (With UDP)  \\\n",
       "0                          1.05           DEFAULT VALUE   \n",
       "\n",
       "   Upload Bit Rate (With TCP)  Download Bit Rate (With TCP)  \\\n",
       "0                        63.5                          62.9   \n",
       "\n",
       "  Max Bit Rate (With TCP) Week day  Day  Month  Hour  Minute  \n",
       "0           DEFAULT VALUE   Friday   14  April    13      39  "
      ]
     },
     "execution_count": 4,
     "metadata": {},
     "output_type": "execute_result"
    }
   ],
   "source": [
    "df\n"
   ]
  }
 ],
 "metadata": {
  "kernelspec": {
   "display_name": "Python 3",
   "language": "python",
   "name": "python3"
  },
  "language_info": {
   "codemirror_mode": {
    "name": "ipython",
    "version": 3
   },
   "file_extension": ".py",
   "mimetype": "text/x-python",
   "name": "python",
   "nbconvert_exporter": "python",
   "pygments_lexer": "ipython3",
   "version": "3.10.6"
  },
  "orig_nbformat": 4
 },
 "nbformat": 4,
 "nbformat_minor": 2
}
